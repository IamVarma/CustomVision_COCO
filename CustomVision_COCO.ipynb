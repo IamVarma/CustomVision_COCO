{
 "metadata": {
  "language_info": {
   "codemirror_mode": {
    "name": "ipython",
    "version": 3
   },
   "file_extension": ".py",
   "mimetype": "text/x-python",
   "name": "python",
   "nbconvert_exporter": "python",
   "pygments_lexer": "ipython3",
   "version": "3.7.6-final"
  },
  "orig_nbformat": 2,
  "kernelspec": {
   "name": "python3",
   "display_name": "Python 3"
  }
 },
 "nbformat": 4,
 "nbformat_minor": 2,
 "cells": [
  {
   "cell_type": "code",
   "execution_count": 127,
   "metadata": {},
   "outputs": [],
   "source": [
    "import requests"
   ]
  },
  {
   "cell_type": "code",
   "execution_count": 128,
   "metadata": {},
   "outputs": [],
   "source": [
    "headers = {\n",
    "    # Request headers\n",
    "    'Training-key': '8f3a43e108d84c229c21aaeb38afc21d',\n",
    "}"
   ]
  },
  {
   "cell_type": "code",
   "execution_count": 129,
   "metadata": {},
   "outputs": [],
   "source": [
    "project_id = '6c7894b2-75cb-4eec-96b4-632ff7df02e2'\n",
    "endpoint_uri = 'https://australiaeast.api.cognitive.microsoft.com/'\n",
    "request_uri = endpoint_uri"
   ]
  },
  {
   "cell_type": "code",
   "execution_count": 130,
   "metadata": {},
   "outputs": [
    {
     "output_type": "stream",
     "name": "stdout",
     "text": [
      "Tagged Images in the project: 68\n"
     ]
    }
   ],
   "source": [
    "img_count = None\n",
    "img_count_resp = requests.get(request_uri+'/customvision/v3.3/Training/projects/'+project_id+'/images/tagged/count?', params = {'iterationId': 'Workspace'}, headers= headers)\n",
    "if img_count_resp.status_code != 200:\n",
    "    raise Exception\n",
    "else:\n",
    "    img_count = img_count_resp.json()\n",
    "    print(\"Tagged Images in the project: \"+ str(img_count))\n"
   ]
  },
  {
   "cell_type": "code",
   "execution_count": 131,
   "metadata": {},
   "outputs": [
    {
     "output_type": "stream",
     "name": "stdout",
     "text": [
      "Getting images from:1 to 20\n",
      "Getting images from:21 to 40\n",
      "Getting images from:41 to 60\n",
      "Getting images from:61 to 68\n",
      "68\n"
     ]
    }
   ],
   "source": [
    "total_imgs = list(range(img_count+1))\n",
    "batch_size = 20\n",
    "\n",
    "tagged_images = []\n",
    "\n",
    "for i in range(1, img_count, batch_size):\n",
    "    batch_items = total_imgs[i:i+batch_size] \n",
    "   \n",
    "    tagged_img_resp = requests.get(request_uri+'/customvision/v3.3/Training/projects/'+project_id+'/images/tagged', params = {'iterationId': 'Workspace','take': batch_size, 'skip': batch_items[0]-1}, headers=headers)\n",
    "    if tagged_img_resp.status_code != 200:\n",
    "        raise Exception\n",
    "    else:\n",
    "        print(\"Getting images from:\"+ str(batch_items[0])+\" to \"+str(batch_items[-1]))\n",
    "        for item in tagged_img_resp.json():\n",
    "            tagged_images.append(item)\n",
    "\n",
    "print(len(tagged_images))"
   ]
  },
  {
   "cell_type": "code",
   "execution_count": null,
   "metadata": {},
   "outputs": [],
   "source": []
  }
 ]
}